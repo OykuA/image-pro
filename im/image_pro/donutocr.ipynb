{
 "cells": [
  {
   "cell_type": "code",
   "execution_count": 1,
   "metadata": {},
   "outputs": [],
   "source": [
    "from transformers import TrOCRProcessor, VisionEncoderDecoderModel\n",
    "from PIL import Image\n",
    "from tqdm.auto import tqdm\n",
    "from urllib.request import urlretrieve\n",
    "from zipfile import ZipFile\n",
    " \n",
    " \n",
    "import numpy as np\n",
    "import matplotlib.pyplot as plt\n",
    "import torch\n",
    "import os\n",
    "import glob\n",
    "import sentencepiece as smp"
   ]
  },
  {
   "cell_type": "code",
   "execution_count": null,
   "metadata": {},
   "outputs": [],
   "source": [
    "!nvidia-smi "
   ]
  },
  {
   "cell_type": "code",
   "execution_count": 19,
   "metadata": {},
   "outputs": [],
   "source": [
    "device = torch.device('cuda:0' if torch.cuda.is_available else 'cpu')\n"
   ]
  },
  {
   "cell_type": "code",
   "execution_count": 26,
   "metadata": {},
   "outputs": [],
   "source": [
    "\n",
    "# def process_local_folder(folder_path):\n",
    "#     print(f\"Processing files in folder: {folder_path}\", end=\"\")\n",
    "\n",
    "#     if os.path.exists(folder_path):\n",
    "#         try:\n",
    "#             # Process the files within the folder\n",
    "#             for file_name in os.listdir(folder_path):\n",
    "#                 file_path = os.path.join(folder_path, file_name)\n",
    "#                 # Add your processing logic here\n",
    "#                 print(f\"\\nProcessing file: {file_path}\")\n",
    "            \n",
    "#             print(\"\\nDone\")\n",
    "\n",
    "#         except Exception as e:\n",
    "#             print(\"\\nError processing files.\", e)\n",
    "#     else:\n",
    "#         print(\"\\nFolder does not exist.\")\n",
    "\n",
    "# local_folder_path = r\"C:\\Users\\oyku_\\Desktop\\images\"\n",
    "\n",
    "# process_local_folder(local_folder_path)\n"
   ]
  },
  {
   "cell_type": "code",
   "execution_count": 46,
   "metadata": {},
   "outputs": [],
   "source": [
    "def download_and_unzip(url, save_path):\n",
    "    print(f\"Downloading and extracting assets....\", end=\"\")\n",
    " \n",
    " \n",
    "    # Downloading zip file using urllib package.\n",
    "    urlretrieve(url, save_path)\n",
    " \n",
    " \n",
    "    try:\n",
    "        # Extracting zip file using the zipfile package.\n",
    "        with ZipFile(save_path) as z:\n",
    "            # Extract ZIP file contents in the same directory.\n",
    "            z.extractall(os.path.split(save_path)[0])\n",
    " \n",
    " \n",
    "        print(\"Done\")\n",
    " \n",
    " \n",
    "    except Exception as e:\n",
    "        print(\"\\nInvalid file.\", e)\n",
    " \n",
    "URL = r\"https://drive.google.com/drive/folders/110RqpECTHgyaqtWDF7QMymZl04vT8n0K?usp=drive_link\"\n",
    "asset_zip_path = os.path.join(os.getcwd(), \"recipe_pics.zip\")\n",
    "# Download if assest ZIP does not exists.\n",
    "if not os.path.exists(asset_zip_path):\n",
    "    download_and_unzip(URL, asset_zip_path)"
   ]
  },
  {
   "cell_type": "code",
   "execution_count": 47,
   "metadata": {},
   "outputs": [],
   "source": [
    "def read_image(image_path):\n",
    "    \"\"\"\n",
    "    :param image_path: String, path to the input image.\n",
    "\n",
    "\n",
    "    Returns:\n",
    "        image: PIL Image.\n",
    "    \"\"\"\n",
    "    image = Image.open(image_path).convert('RGB')\n",
    "    return image"
   ]
  },
  {
   "cell_type": "code",
   "execution_count": 48,
   "metadata": {},
   "outputs": [],
   "source": [
    "def ocr(image, processor, model):\n",
    "    \"\"\"\n",
    "    :param image: PIL Image.\n",
    "    :param processor: Huggingface OCR processor.\n",
    "    :param model: Huggingface OCR model.\n",
    "\n",
    "\n",
    "    Returns:\n",
    "        generated_text: the OCR'd text string.\n",
    "    \"\"\"\n",
    "    # We can directly perform OCR on cropped images.\n",
    "    pixel_values = processor(image, return_tensors='pt').pixel_values.to(device)\n",
    "    generated_ids = model.generate(pixel_values)\n",
    "    generated_text = processor.batch_decode(generated_ids, skip_special_tokens=True)[0]\n",
    "    return generated_text"
   ]
  },
  {
   "cell_type": "code",
   "execution_count": 53,
   "metadata": {},
   "outputs": [],
   "source": [
    "def eval_new_data(data_path=None, num_samples=8, model=None):\n",
    "    image_paths = glob.glob(data_path)\n",
    "    for i, image_path in tqdm(enumerate(image_paths), total=len(image_paths)):\n",
    "        if i == num_samples:\n",
    "            break\n",
    "        image = read_image(image_path)\n",
    "        text = ocr(image, processor, model)\n",
    "        plt.figure(figsize=(7, 4))\n",
    "        plt.imshow(image)\n",
    "        plt.title(text)\n",
    "        plt.axis('off')\n",
    "        plt.show()"
   ]
  },
  {
   "cell_type": "code",
   "execution_count": 14,
   "metadata": {},
   "outputs": [
    {
     "name": "stderr",
     "output_type": "stream",
     "text": [
      "Some weights of VisionEncoderDecoderModel were not initialized from the model checkpoint at microsoft/trocr-small-printed and are newly initialized: ['encoder.pooler.dense.bias', 'encoder.pooler.dense.weight']\n",
      "You should probably TRAIN this model on a down-stream task to be able to use it for predictions and inference.\n"
     ]
    }
   ],
   "source": [
    "processor = TrOCRProcessor.from_pretrained('microsoft/trocr-small-printed')\n",
    "model = VisionEncoderDecoderModel.from_pretrained(\n",
    "    'microsoft/trocr-small-printed'\n",
    ").to(device)"
   ]
  },
  {
   "cell_type": "code",
   "execution_count": 54,
   "metadata": {},
   "outputs": [
    {
     "name": "stdout",
     "output_type": "stream",
     "text": [
      "True\n",
      "12.4\n"
     ]
    }
   ],
   "source": [
    "print(torch.cuda.is_available())  # True döndermeli\n",
    "print(torch.version.cuda)  \n"
   ]
  },
  {
   "cell_type": "code",
   "execution_count": 55,
   "metadata": {},
   "outputs": [
    {
     "data": {
      "application/vnd.jupyter.widget-view+json": {
       "model_id": "a99678e26e2d40a181b3372b9778f599",
       "version_major": 2,
       "version_minor": 0
      },
      "text/plain": [
       "0it [00:00, ?it/s]"
      ]
     },
     "metadata": {},
     "output_type": "display_data"
    }
   ],
   "source": [
    "eval_new_data(\n",
    "    data_path=os.path.join('recipe_pics','recipes', '*jpg'),\n",
    "    num_samples=8,\n",
    "    model=model\n",
    ")"
   ]
  },
  {
   "cell_type": "code",
   "execution_count": null,
   "metadata": {},
   "outputs": [],
   "source": [
    "# processor = TrOCRProcessor.from_pretrained('microsoft/trocr-base-handwritten')\n",
    "# model = VisionEncoderDecoderModel.from_pretrained(\n",
    "\n",
    "#     'microsoft/trocr-base-handwritten'\n",
    "# ).to(device)\n",
    "\n",
    "#FOR HANDWRİTTEN TEXT MUCH LARGER MODEL TAKES AWFUL LOT OF TIME TO RUN!!!!!"
   ]
  }
 ],
 "metadata": {
  "kernelspec": {
   "display_name": "Python 3",
   "language": "python",
   "name": "python3"
  },
  "language_info": {
   "codemirror_mode": {
    "name": "ipython",
    "version": 3
   },
   "file_extension": ".py",
   "mimetype": "text/x-python",
   "name": "python",
   "nbconvert_exporter": "python",
   "pygments_lexer": "ipython3",
   "version": "3.10.0"
  }
 },
 "nbformat": 4,
 "nbformat_minor": 2
}
