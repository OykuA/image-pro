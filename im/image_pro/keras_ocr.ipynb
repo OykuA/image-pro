{
 "cells": [
  {
   "cell_type": "code",
   "execution_count": 1,
   "metadata": {},
   "outputs": [
    {
     "name": "stdout",
     "output_type": "stream",
     "text": [
      "WARNING:tensorflow:From c:\\Users\\oyku_\\AppData\\Local\\Programs\\Python\\Python310\\lib\\site-packages\\keras\\src\\losses.py:2976: The name tf.losses.sparse_softmax_cross_entropy is deprecated. Please use tf.compat.v1.losses.sparse_softmax_cross_entropy instead.\n",
      "\n",
      "WARNING:tensorflow:From c:\\Users\\oyku_\\AppData\\Local\\Programs\\Python\\Python310\\lib\\site-packages\\keras\\src\\backend.py:873: The name tf.get_default_graph is deprecated. Please use tf.compat.v1.get_default_graph instead.\n",
      "\n"
     ]
    }
   ],
   "source": [
    "import keras_ocr\n",
    "import os\n",
    "import matplotlib.pyplot as plt\n",
    "import cv2\n"
   ]
  },
  {
   "cell_type": "code",
   "execution_count": null,
   "metadata": {},
   "outputs": [],
   "source": [
    "# image_folder = 'C:/Users/oyku_/Desktop/Recipe Collector/image pro/recipe_pic_'\n",
    "image_folder = 'C:/Users/oyku_/Desktop/Recipe Collector/image pro/recipe_pic_keras_test'"
   ]
  },
  {
   "cell_type": "code",
   "execution_count": 3,
   "metadata": {},
   "outputs": [
    {
     "name": "stdout",
     "output_type": "stream",
     "text": [
      "Looking for C:\\Users\\oyku_\\.keras-ocr\\craft_mlt_25k.h5\n",
      "WARNING:tensorflow:From c:\\Users\\oyku_\\AppData\\Local\\Programs\\Python\\Python310\\lib\\site-packages\\keras\\src\\layers\\normalization\\batch_normalization.py:979: The name tf.nn.fused_batch_norm is deprecated. Please use tf.compat.v1.nn.fused_batch_norm instead.\n",
      "\n",
      "WARNING:tensorflow:From c:\\Users\\oyku_\\AppData\\Local\\Programs\\Python\\Python310\\lib\\site-packages\\tensorflow\\python\\util\\dispatch.py:1260: resize_bilinear (from tensorflow.python.ops.image_ops_impl) is deprecated and will be removed in a future version.\n",
      "Instructions for updating:\n",
      "Use `tf.image.resize(...method=ResizeMethod.BILINEAR...)` instead.\n",
      "WARNING:tensorflow:From c:\\Users\\oyku_\\AppData\\Local\\Programs\\Python\\Python310\\lib\\site-packages\\keras\\src\\optimizers\\__init__.py:309: The name tf.train.Optimizer is deprecated. Please use tf.compat.v1.train.Optimizer instead.\n",
      "\n",
      "Looking for C:\\Users\\oyku_\\.keras-ocr\\crnn_kurapan.h5\n"
     ]
    }
   ],
   "source": [
    "pipeline = keras_ocr.pipeline.Pipeline()\n"
   ]
  },
  {
   "cell_type": "code",
   "execution_count": 4,
   "metadata": {},
   "outputs": [
    {
     "name": "stdout",
     "output_type": "stream",
     "text": [
      "Loaded 28 images from C:/Users/oyku_/Desktop/Recipe Collector/image pro/recipe_pic_keras_test\n"
     ]
    }
   ],
   "source": [
    "# def resize_images(image_path, target_size =(1024,1024)):\n",
    "#     image = keras_ocr.tools.read(image_path)\n",
    "#     return cv2.resize(image, target_size)\n",
    "images = [\n",
    "    keras_ocr.tools.read(os.path.join(image_folder, img))\n",
    "    for img in os.listdir(image_folder)\n",
    "    if img.lower().endswith(('.png', '.jpeg', '.jpg'))\n",
    "]\n",
    "print(f\"Loaded {len(images)} images from {image_folder}\")\n"
   ]
  },
  {
   "cell_type": "code",
   "execution_count": 5,
   "metadata": {},
   "outputs": [
    {
     "ename": "",
     "evalue": "",
     "output_type": "error",
     "traceback": [
      "\u001b[1;31mThe Kernel crashed while executing code in the current cell or a previous cell. \n",
      "\u001b[1;31mPlease review the code in the cell(s) to identify a possible cause of the failure. \n",
      "\u001b[1;31mClick <a href='https://aka.ms/vscodeJupyterKernelCrash'>here</a> for more info. \n",
      "\u001b[1;31mView Jupyter <a href='command:jupyter.viewOutput'>log</a> for further details."
     ]
    }
   ],
   "source": [
    "predict_group = pipeline.recognize(images)\n",
    "# batch_size = 10\n",
    "# image_file = [\n",
    "#     os.path.join(image_folder, img)\n",
    "#     for img in os.listdir(image_folder)\n",
    "#     if img.lower().endswith(('.png', '.jpeg', '.jpg'))\n",
    "# ]\n",
    "\n",
    "# prediction = []\n",
    "# for i in range(0, len(image_file), batch_size):\n",
    "#     batch = image_file[i:i + batch_size]\n",
    "#     image_batch = [keras_ocr.tools.read(img) for img in batch]\n",
    "#     prediction_batch = pipeline.recognize(image_batch)\n",
    "#     prediction.extend(prediction_batch)\n",
    "\n",
    "# print(f\"Processed {len(prediction)} images in batches.\")"
   ]
  }
 ],
 "metadata": {
  "kernelspec": {
   "display_name": "Python 3",
   "language": "python",
   "name": "python3"
  },
  "language_info": {
   "codemirror_mode": {
    "name": "ipython",
    "version": 3
   },
   "file_extension": ".py",
   "mimetype": "text/x-python",
   "name": "python",
   "nbconvert_exporter": "python",
   "pygments_lexer": "ipython3",
   "version": "3.10.0"
  }
 },
 "nbformat": 4,
 "nbformat_minor": 2
}
